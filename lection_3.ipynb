{
 "cells": [
  {
   "cell_type": "code",
   "execution_count": 2,
   "metadata": {},
   "outputs": [],
   "source": [
    "import numpy as np\n",
    "\n",
    "import seaborn\n",
    "import matplotlib.pyplot as plt"
   ]
  },
  {
   "cell_type": "code",
   "execution_count": 3,
   "metadata": {},
   "outputs": [],
   "source": [
    "MAP = ['OOOO',\n",
    "       'OWON',\n",
    "       'OOOP']\n",
    "\n",
    "desc = np.array(MAP, dtype='c')\n",
    "nrow, ncol = desc.shape\n",
    "nA = 4 # actions number\n",
    "nS = nrow * ncol # states number\n",
    "is_slippery = False\n",
    "\n",
    "R_positive = 10\n",
    "R_negative = -10\n",
    "r = -1\n"
   ]
  },
  {
   "cell_type": "code",
   "execution_count": 5,
   "metadata": {},
   "outputs": [],
   "source": [
    "def to_s(row, col):\n",
    "    return row*4 + col\n",
    "\n",
    "\n",
    "def get_next_state(r, c, action):\n",
    "    \"\"\"actions: [0, 1, 2, 3] = [left, down, right, up]\"\"\"\n",
    "    if action == 3:\n",
    "        r = max(0, r - 1)\n",
    "    elif action == 1:\n",
    "        r = min(nrow - 1, r + 1)\n",
    "    elif action == 0:\n",
    "        c = max(0, c - 1)\n",
    "    elif action == 2:\n",
    "        c = min(ncol - 1, c + 1)\n",
    "    return r, c\n",
    "\n",
    "\n",
    "def get_reward(letter, new_letter):\n",
    "    trans_rewards = {b'OO': r,\n",
    "                     b'OW': r,\n",
    "                     b'OP': R_positive,\n",
    "                     b'ON': R_negative\n",
    "    }\n",
    "    return trans_rewards[letter + new_letter]\n"
   ]
  },
  {
   "cell_type": "code",
   "execution_count": 6,
   "metadata": {},
   "outputs": [],
   "source": [
    "def get_dynamics(ncol, nrow, nS, nA):\n",
    "    P = {s: {a: [] for a in range(nA)} for s in range(nS)}\n",
    "\n",
    "    for r in range(nrow):\n",
    "        for c in range(ncol):\n",
    "            s = to_s(r, c)\n",
    "            for a in range(nA):\n",
    "                dynamics = P[s][a]\n",
    "                letter = desc[r, c]\n",
    "                if letter in b'PNW': # terminal states\n",
    "                    # (p, s', reward, is_terminal)\n",
    "                    dynamics.append((0, s, 0, True))\n",
    "                else:\n",
    "                    if is_slippery:\n",
    "                        # define the perpendicular trajectory actions, with the action\n",
    "                        for b in [(a - 1) % 4, a, (a + 1) % 4]:\n",
    "                            new_r, new_c = get_next_state(r, c, b)\n",
    "                            new_s = to_s(new_r, new_c)\n",
    "                            new_letter = desc[new_r, new_c]\n",
    "                            if new_letter == b'W':\n",
    "                                new_letter = letter\n",
    "                                new_s = s\n",
    "                            terminated = new_letter in b'PN'\n",
    "                            reward = get_reward(letter, new_letter)\n",
    "                            dynamics.append((1.0/3.0, new_s, reward, terminated)) # there are 2 perpendicular move trajectories, so with the action they add up to 3 probable actions\n",
    "                    else:\n",
    "                        new_r, new_c = get_next_state(r, c, a)\n",
    "                        new_s = to_s(new_r, new_c) \n",
    "                        new_letter = desc[new_r, new_c]\n",
    "                        terminated = new_letter in b'PN'\n",
    "                        reward = get_reward(letter, new_letter)\n",
    "                        dynamics.append((1.0, new_s, reward, terminated))\n",
    "    return P\n"
   ]
  },
  {
   "cell_type": "code",
   "execution_count": 7,
   "metadata": {},
   "outputs": [],
   "source": [
    "P = get_dynamics(ncol, nrow, nS, nA)\n",
    "policy_p = np.ones((nS, nA)) / nA\n"
   ]
  },
  {
   "cell_type": "code",
   "execution_count": 9,
   "metadata": {},
   "outputs": [],
   "source": [
    "def policy_iteration(policy, P, gamma=0.75, theta=1e-5):\n",
    "    delta = np.float32(\"inf\")\n",
    "    nS = len(P.keys())\n",
    "    V = np.zeros(nS)\n",
    "\n",
    "    while theta < delta:\n",
    "        delta = 0\n",
    "        \n",
    "        for s in range(nS):\n",
    "            Vs = 0\n",
    "            for action, action_p in enumerate(policy[s]):\n",
    "                for (p, new_s, reward, terminated) in P[s][action]:\n",
    "                    Vs += action_p * p * (reward + gamma * V[new_s])\n",
    "            delta = max(delta, np.abs(V[s] - Vs))\n",
    "            V[s] = Vs\n",
    "    return V\n"
   ]
  },
  {
   "cell_type": "code",
   "execution_count": 20,
   "metadata": {},
   "outputs": [],
   "source": [
    "V_1 = policy_iteration(policy=policy_p, P=P)"
   ]
  },
  {
   "cell_type": "code",
   "execution_count": 21,
   "metadata": {},
   "outputs": [
    {
     "data": {
      "text/plain": [
       "(np.float64(0.0), np.float64(4.0), np.float64(3.0), np.float64(0.0))"
      ]
     },
     "execution_count": 21,
     "metadata": {},
     "output_type": "execute_result"
    },
    {
     "data": {
      "image/png": "[encoded data removed]",
      "text/plain": [
       "<Figure size 640x480 with 2 Axes>"
      ]
     },
     "metadata": {},
     "output_type": "display_data"
    }
   ],
   "source": [
    "seaborn.heatmap(V_1.reshape(nrow, ncol), annot=True)\n",
    "plt.axis(\"off\")\n"
   ]
  },
  {
   "cell_type": "code",
   "execution_count": 12,
   "metadata": {},
   "outputs": [],
   "source": [
    "from numpy.linalg import solve"
   ]
  },
  {
   "cell_type": "code",
   "execution_count": 22,
   "metadata": {},
   "outputs": [],
   "source": [
    "def bellman_SLE(policy, P, gamma=0.75):\n",
    "    nS = len(P.keys())\n",
    "    A = np.eye(nS)\n",
    "    b = np.zeros(nS)\n",
    "    \n",
    "    for s in range(nS):\n",
    "        for action, action_p in enumerate(policy[s]):\n",
    "            for (p, new_s, reward, terminated) in P[s][action]:\n",
    "                A[s][new_s] -= action_p * p * gamma\n",
    "                b[s] += action_p * p * reward\n",
    "\n",
    "    V = solve(A, b)\n",
    "    return V, A, b\n"
   ]
  },
  {
   "cell_type": "code",
   "execution_count": 23,
   "metadata": {},
   "outputs": [],
   "source": [
    "V_2, A, b = bellman_SLE(policy_p, P)"
   ]
  },
  {
   "cell_type": "code",
   "execution_count": 24,
   "metadata": {},
   "outputs": [
    {
     "data": {
      "text/plain": [
       "(np.float64(0.0), np.float64(4.0), np.float64(3.0), np.float64(0.0))"
      ]
     },
     "execution_count": 24,
     "metadata": {},
     "output_type": "execute_result"
    },
    {
     "data": {
      "image/png": "[encoded data removed]",
      "text/plain": [
       "<Figure size 640x480 with 2 Axes>"
      ]
     },
     "metadata": {},
     "output_type": "display_data"
    }
   ],
   "source": [
    "seaborn.heatmap(V_2.reshape(nrow, ncol), annot=True)\n",
    "plt.axis(\"off\")\n"
   ]
  },
  {
   "attachments": {},
   "cell_type": "markdown",
   "metadata": {},
   "source": [
    "# Policy improvement"
   ]
  },
  {
   "cell_type": "code",
   "execution_count": 32,
   "metadata": {},
   "outputs": [],
   "source": [
    "def q_from_v(P, V, s, gamma=0.75):\n",
    "    nA = 4\n",
    "    q = np.zeros(nA)\n",
    "    for a in range(nA):\n",
    "        for (p, new_s, reward, terminated) in P[s][a]:\n",
    "            q[a] += p * (reward + gamma * V[new_s])\n",
    "    return q\n",
    "    "
   ]
  },
  {
   "cell_type": "code",
   "execution_count": 27,
   "metadata": {},
   "outputs": [
    {
     "data": {
      "text/plain": [
       "array([-0.48019719, -0.47132017, -0.4736654 , -0.48019719])"
      ]
     },
     "execution_count": 27,
     "metadata": {},
     "output_type": "execute_result"
    }
   ],
   "source": [
    "q_from_v(P, V_1, 0)"
   ]
  },
  {
   "cell_type": "code",
   "execution_count": 29,
   "metadata": {},
   "outputs": [],
   "source": [
    "def Q_from_v(P, V, gamma=0.75):\n",
    "    nS = V.shape[0] \n",
    "    Q = np.array([q_from_v(P, V, s, gamma=gamma) for s in range(nS)])\n",
    "    return Q\n"
   ]
  },
  {
   "cell_type": "code",
   "execution_count": 33,
   "metadata": {},
   "outputs": [
    {
     "data": {
      "text/plain": [
       "array([[-0.44348123, -0.43682346, -0.43858238, -0.44348123],\n",
       "       [-0.44348123, -0.33333333, -0.46858832, -0.43858238],\n",
       "       [-0.43858238, -0.60439133, -0.65251818, -0.46858832],\n",
       "       [-0.46858832, -3.33333333, -0.65251818, -0.65251818],\n",
       "       [-0.43682346, -0.44220425, -0.33333333, -0.44348123],\n",
       "       [ 0.        ,  0.        ,  0.        ,  0.        ],\n",
       "       [-0.33333333, -0.20167295, -3.33333333, -0.46858832],\n",
       "       [ 0.        ,  0.        ,  0.        ,  0.        ],\n",
       "       [-0.44220425, -0.44220425, -0.42070292, -0.43682346],\n",
       "       [-0.44220425, -0.42070292, -0.20167295, -0.33333333],\n",
       "       [-0.42070292, -0.20167295,  3.33333333, -0.60439133],\n",
       "       [ 0.        ,  0.        ,  0.        ,  0.        ]])"
      ]
     },
     "execution_count": 33,
     "metadata": {},
     "output_type": "execute_result"
    }
   ],
   "source": [
    "Q_from_v(P, V_1)"
   ]
  },
  {
   "cell_type": "code",
   "execution_count": 34,
   "metadata": {},
   "outputs": [
    {
     "data": {
      "text/plain": [
       "array([[0.25, 0.25, 0.25, 0.25],\n",
       "       [0.25, 0.25, 0.25, 0.25],\n",
       "       [0.25, 0.25, 0.25, 0.25],\n",
       "       [0.25, 0.25, 0.25, 0.25],\n",
       "       [0.25, 0.25, 0.25, 0.25],\n",
       "       [0.25, 0.25, 0.25, 0.25],\n",
       "       [0.25, 0.25, 0.25, 0.25],\n",
       "       [0.25, 0.25, 0.25, 0.25],\n",
       "       [0.25, 0.25, 0.25, 0.25],\n",
       "       [0.25, 0.25, 0.25, 0.25],\n",
       "       [0.25, 0.25, 0.25, 0.25],\n",
       "       [0.25, 0.25, 0.25, 0.25]])"
      ]
     },
     "execution_count": 34,
     "metadata": {},
     "output_type": "execute_result"
    }
   ],
   "source": [
    "policy = np.ones((nS, nA)) / nA\n",
    "policy"
   ]
  },
  {
   "cell_type": "code",
   "execution_count": 35,
   "metadata": {},
   "outputs": [
    {
     "data": {
      "text/plain": [
       "array([-0.44348123, -0.43682346, -0.43858238, -0.44348123])"
      ]
     },
     "execution_count": 35,
     "metadata": {},
     "output_type": "execute_result"
    }
   ],
   "source": [
    "s = 0\n",
    "q = q_from_v(P, V_1, s, gamma=0.75)\n",
    "q"
   ]
  },
  {
   "cell_type": "code",
   "execution_count": 48,
   "metadata": {},
   "outputs": [
    {
     "data": {
      "text/plain": [
       "array([[0.  , 1.  , 0.  , 0.  ],\n",
       "       [0.25, 0.25, 0.25, 0.25],\n",
       "       [0.25, 0.25, 0.25, 0.25],\n",
       "       [0.25, 0.25, 0.25, 0.25],\n",
       "       [0.25, 0.25, 0.25, 0.25],\n",
       "       [0.25, 0.25, 0.25, 0.25],\n",
       "       [0.25, 0.25, 0.25, 0.25],\n",
       "       [0.25, 0.25, 0.25, 0.25],\n",
       "       [0.25, 0.25, 0.25, 0.25],\n",
       "       [0.25, 0.25, 0.25, 0.25],\n",
       "       [0.25, 0.25, 0.25, 0.25],\n",
       "       [0.25, 0.25, 0.25, 0.25]])"
      ]
     },
     "execution_count": 48,
     "metadata": {},
     "output_type": "execute_result"
    }
   ],
   "source": [
    "policy"
   ]
  },
  {
   "cell_type": "code",
   "execution_count": 55,
   "metadata": {},
   "outputs": [],
   "source": [
    "def improve_policy(P, V, policy, gamma=0.75):\n",
    "    nS = V.shape[0]\n",
    "    nA = 4\n",
    "    # policy = np.ones([nS, nA]) / nA\n",
    "\n",
    "    for s in range(nS):\n",
    "        q = q_from_v(P, V, s, gamma=gamma)\n",
    "        best_action = np.argwhere(q == np.max(q)).flatten()\n",
    "        policy[s] = np.sum([np.eye(nA)[i] for i in best_action], axis=0) / len(best_action)\n",
    "    return policy\n"
   ]
  },
  {
   "cell_type": "code",
   "execution_count": 56,
   "metadata": {},
   "outputs": [],
   "source": [
    "# optimize_policy()\n",
    "\n",
    "policy = np.ones([nS, nA]) / nA\n",
    "V_curr = policy_iteration(policy=policy, P=P, gamma=0.75, theta=1e-5)\n",
    "policy = improve_policy(P=P, V=V_curr, policy=policy, gamma=0.75)\n",
    "V_next = policy_iteration(policy=policy, P=P, gamma=0.75, theta=1e-5)\n",
    "theta = 1e-5\n",
    "\n",
    "i = 0\n",
    "while np.max(np.abs(V_next - V_curr)) > theta:\n",
    "    V_curr = V_next\n",
    "    policy = improve_policy(P=P, V=V_curr, policy=policy, gamma=0.75)\n",
    "    V_next = policy_iteration(policy=policy, P=P, gamma=0.75, theta=1e-5)\n",
    "    i += 1"
   ]
  },
  {
   "cell_type": "code",
   "execution_count": 57,
   "metadata": {},
   "outputs": [
    {
     "data": {
      "text/plain": [
       "2"
      ]
     },
     "execution_count": 57,
     "metadata": {},
     "output_type": "execute_result"
    }
   ],
   "source": [
    "i"
   ]
  },
  {
   "cell_type": "code",
   "execution_count": 54,
   "metadata": {},
   "outputs": [],
   "source": [
    "def optimize_policy(P, nS, nA, gamma=0.75, theta=1e-4):\n",
    "    policy = np.ones([nS, nA]) / nA\n",
    "    V_curr = policy_iteration(policy=policy, P=P, gamma=gamma, theta=theta)\n",
    "    policy = improve_policy(P=P, V=V_curr, policy=policy, gamma=gamma)\n",
    "    V_next = policy_iteration(policy=policy, P=P, gamma=gamma, theta=theta)\n",
    "\n",
    "    # i = 0\n",
    "    while np.max(np.abs(V_next - V_curr)) > theta:\n",
    "        V_curr = V_next\n",
    "        policy = improve_policy(P=P, V=V_curr, policy=policy, gamma=gamma)\n",
    "        V_next = policy_iteration(policy=policy, P=P, gamma=gamma, theta=theta)\n",
    "        # i += 1\n",
    "    return V_next, policy"
   ]
  },
  {
   "cell_type": "code",
   "execution_count": null,
   "metadata": {},
   "outputs": [],
   "source": []
  }
 ],
 "metadata": {
  "kernelspec": {
   "display_name": "env",
   "language": "python",
   "name": "python3"
  },
  "language_info": {
   "codemirror_mode": {
    "name": "ipython",
    "version": 3
   },
   "file_extension": ".py",
   "mimetype": "text/x-python",
   "name": "python",
   "nbconvert_exporter": "python",
   "pygments_lexer": "ipython3",
   "version": "3.12.4"
  },
  "orig_nbformat": 4
 },
 "nbformat": 4,
 "nbformat_minor": 2
}
