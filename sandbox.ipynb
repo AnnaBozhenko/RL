{
 "cells": [
  {
   "cell_type": "code",
   "execution_count": null,
   "metadata": {},
   "outputs": [],
   "source": [
    "# TODO:\n",
    "# implement iterative policy evaluation of states\n",
    "# Input: \n",
    "#   [<action>, .., ]\n",
    "#   {<action>: <probability>}\n",
    "#   gamma\n",
    "#   {r(s'): <reward>}\n",
    "#   map of world: ['SFFF', \n",
    "#                  'FHFH', \n",
    "#                  'FFFH', \n",
    "#                  'HFFG']\n",
    "#   initial state: [row, col]\n",
    "\n",
    "# Requirements:\n",
    "#  + policy should be valid, i.e after fell into hole, no further actions are possibble \n",
    "#  + on return i get a map of states, e.g: \n",
    "# [[0.3, -0.04, 0.23, 0],\n",
    "#  [0.3, -0.04, 0.23, 0]\n",
    "#  [0.3, -0.04, 0.23, 0]\n",
    "#  [0.3, -0.04, 0.23, 0]\n",
    "#  [0.3, -0.04, 0.23, 0]] \n",
    "# \n",
    "# I should visualize the map (heat map)"
   ]
  },
  {
   "cell_type": "code",
   "execution_count": 2,
   "metadata": {},
   "outputs": [],
   "source": [
    "import numpy as np\n",
    "\n",
    "import seaborn\n",
    "\n",
    "from functools import reduce\n",
    "\n",
    "import copy\n",
    "import matplotlib.pyplot as plt\n"
   ]
  },
  {
   "cell_type": "code",
   "execution_count": null,
   "metadata": {},
   "outputs": [],
   "source": [
    "# environment:\n",
    "# ['SFFF', \n",
    "#  'FHFH', \n",
    "#  'FFFH', \n",
    "#  'HFFG']"
   ]
  },
  {
   "cell_type": "code",
   "execution_count": 2,
   "metadata": {},
   "outputs": [],
   "source": [
    "# initial state\n",
    "s0 = (0, 0)\n",
    "# probabilities to move by action\n",
    "ps = {\n",
    "      \"left\": 0.25, \n",
    "      \"down\": 0.25, \n",
    "      \"right\": 0.25, \n",
    "      \"up\": 0.25\n",
    "    } \n",
    "# rewards to get when getting to a state\n",
    "rs = {\n",
    "      \"H\": 0,\n",
    "      \"F\": 0,\n",
    "      \"S\": 0,\n",
    "      \"G\": 1\n",
    "    }\n",
    "\n",
    "\n",
    "world_map = ['SFFF', \n",
    "            'FHFH', \n",
    "            'FFFH', \n",
    "            'HFFG']\n",
    "\n",
    "world_map = np.array([[env_name for env_name in line] for line in world_map])\n",
    "\n",
    "gamma = 0.75\n",
    "\n",
    "actions = [ \"left\", \"down\", \"right\",\"up\"]\n",
    "p = 1/len(actions)"
   ]
  },
  {
   "attachments": {},
   "cell_type": "markdown",
   "metadata": {},
   "source": [
    "## (2.a) Policy iteration"
   ]
  },
  {
   "cell_type": "code",
   "execution_count": 5,
   "metadata": {},
   "outputs": [],
   "source": [
    "n = len(world_map)"
   ]
  },
  {
   "cell_type": "code",
   "execution_count": 17,
   "metadata": {},
   "outputs": [],
   "source": [
    "def get_next_state(state, action):\n",
    "    r, c = state\n",
    "    if action == \"up\":\n",
    "        r = max(0, r - 1)\n",
    "    elif action == \"down\":\n",
    "        r = min(n - 1, r + 1)\n",
    "    elif action == \"left\":\n",
    "        c = max(0, c - 1)\n",
    "    elif action == \"right\":\n",
    "        c = min(n - 1, r + 1)\n",
    "    return r, c\n"
   ]
  },
  {
   "cell_type": "code",
   "execution_count": 7,
   "metadata": {},
   "outputs": [
    {
     "name": "stdout",
     "output_type": "stream",
     "text": [
      "Value Function (Iterative):\n",
      "[[0.008 0.009 0.03  0.067]\n",
      " [0.019 0.    0.036 0.   ]\n",
      " [0.069 0.055 0.066 0.   ]\n",
      " [0.    0.269 0.262 0.   ]]\n"
     ]
    }
   ],
   "source": [
    "# Iterative Policy Evaluation\n",
    "terminal_states = []\n",
    "for r in range(n):\n",
    "    for c in range(n):\n",
    "        if world_map[r, c] == \"H\" or world_map[r, c] == \"G\":\n",
    "            terminal_states.append((r, c))\n",
    "\n",
    "threshold = 1e-4\n",
    "delta = float(\"inf\") # initialize to enter a loop \n",
    "value_function = np.zeros((4, 4))\n",
    "\n",
    "\n",
    "while delta > threshold:\n",
    "    delta = 0\n",
    "    new_value_function = value_function.copy()\n",
    "    for i in range(n):\n",
    "        for j in range(n):\n",
    "            state = (i, j)\n",
    "            if state in terminal_states:\n",
    "                continue  # Skip terminal states\n",
    "            \n",
    "            value = 0\n",
    "            for action in actions:\n",
    "                next_state = get_next_state(state, action)\n",
    "                reward = rs[world_map[next_state]]\n",
    "                value += p * (reward + gamma * value_function[next_state])\n",
    "            \n",
    "            new_value_function[i, j] = value\n",
    "            delta = max(delta, abs(value_function[i, j] - value))\n",
    "    \n",
    "    value_function = new_value_function\n",
    "\n",
    "print(\"Value Function (Iterative):\")\n",
    "print(np.round(value_function, 3))\n",
    "\n"
   ]
  },
  {
   "cell_type": "code",
   "execution_count": 8,
   "metadata": {},
   "outputs": [],
   "source": [
    "actions_map = {\"left\": 0, \n",
    "               \"down\": 1, \n",
    "               \"right\": 2, \n",
    "               \"up\": 3}\n"
   ]
  },
  {
   "cell_type": "code",
   "execution_count": null,
   "metadata": {},
   "outputs": [],
   "source": [
    "#TODO How to imporove strategies\n",
    "# map state(n) -> action(n)\n",
    "# 0: 1\n",
    "# 1: 2\n",
    "# 3: 0\n",
    "# 4: 1\n",
    "# ..."
   ]
  },
  {
   "attachments": {},
   "cell_type": "markdown",
   "metadata": {},
   "source": [
    "## (3) Evaluate q(s, a) basing on v(s)"
   ]
  },
  {
   "cell_type": "code",
   "execution_count": null,
   "metadata": {},
   "outputs": [],
   "source": [
    "# Compute q(s, a) for all states and actions\n",
    "q_values = {}\n",
    "for x in range(4):\n",
    "    for y in range(4):\n",
    "        current_state = (x, y)\n",
    "        q_values[current_state] = {}\n",
    "        for action in actions:\n",
    "            q_value = 0\n",
    "            next_states_and_probs = [((get_next_state(current_state, action)), ps[action])]\n",
    "            for next_state, prob in next_states_and_probs:\n",
    "                reward = rs.get(world_map[next_state])\n",
    "                q_value += prob * (reward + gamma * value_function[next_state])\n",
    "            q_values[current_state][action] = q_value\n",
    "\n",
    "# Print the q-values for each state-action pair\n",
    "for state, actions in q_values.items():\n",
    "    print(f\"State {state}:\")\n",
    "    for action, value in actions.items():\n",
    "        print(f\"  Action {action}: Q(s, a) = {value:.2f}\")\n"
   ]
  },
  {
   "cell_type": "code",
   "execution_count": 16,
   "metadata": {},
   "outputs": [
    {
     "data": {
      "text/plain": [
       "True"
      ]
     },
     "execution_count": 16,
     "metadata": {},
     "output_type": "execute_result"
    }
   ],
   "source": [
    "from math import floor\n",
    "\n",
    "(1 - 4 * floor(1/4)) == (1 % 4)"
   ]
  },
  {
   "cell_type": "code",
   "execution_count": 4,
   "metadata": {},
   "outputs": [],
   "source": [
    "# class OutOfWorldError(Exception):\n",
    "#     ...\n",
    "\n",
    "\n",
    "# def apply_policy(state_coords, policy):\n",
    "#     \"\"\"returns next state\"\"\"\n",
    "#     move_col = {\n",
    "#         \"left\": -1,\n",
    "#         \"right\": 1}\n",
    "    \n",
    "#     move_row = {\n",
    "#         \"up\": -1,\n",
    "#         \"down\": 1\n",
    "#     }\n",
    "    \n",
    "#     steps = move_col.get(policy)\n",
    "#     new_coords = 0, 0\n",
    "#     if steps:\n",
    "#         new_coords = state_coords[0], state_coords[1] + steps\n",
    "#     else:\n",
    "#         steps = move_row.get(policy)\n",
    "#         new_coords = state_coords[0] + steps, state_coords[1]\n",
    "#     if new_coords[0] < 0 or new_coords[1] < 0: # both coords may be negative\n",
    "#         raise OutOfWorldError\n",
    "    \n",
    "#     return new_coords\n"
   ]
  },
  {
   "cell_type": "code",
   "execution_count": 11,
   "metadata": {},
   "outputs": [],
   "source": [
    "# strategies_chain = [\n",
    "#     [[\"down\"]*2, [\"right\"], [\"down\"], [\"right\"]*2],\n",
    "#     [[\"down\"]*2, [\"right\"]*2, [\"down\"], [\"right\"]],\n",
    "#     [[\"right\"]*3, [\"left\"], [\"down\"]*3, [\"right\"]],\n",
    "#     [[\"right\"]*2, [\"down\"]*3, [\"right\"]]\n",
    "# ]\n",
    "# strategies_chain[0]\n",
    "# strategies_chain = list(map(lambda policy_chain: reduce(lambda x, y: x + y, \n",
    "#                                      policy_chain), \n",
    "#                                strategies_chain))\n"
   ]
  },
  {
   "cell_type": "code",
   "execution_count": null,
   "metadata": {},
   "outputs": [],
   "source": [
    "# Var 2 (declarative)\n",
    "# strategies_chain_coords = []\n",
    "# for chain in strategies_chain:\n",
    "#     coords_chain = [s0]\n",
    "#     for policy in chain:\n",
    "#         coords_chain.append(apply_policy(coords_chain[-1], policy))\n",
    "#     strategies_chain_coords.append(coords_chain)\n"
   ]
  },
  {
   "cell_type": "code",
   "execution_count": 6,
   "metadata": {},
   "outputs": [],
   "source": [
    "# Var 1 (functional)\n",
    "# strategies_chain_coords = \\\n",
    "# [list(\n",
    "#     reduce(lambda accum_states, policy: accum_states + [apply_policy(accum_states[-1], policy)],\n",
    "#            strategy_chain,\n",
    "#            [s0])) \n",
    "#     for strategy_chain in strategies_chain]\n"
   ]
  },
  {
   "cell_type": "code",
   "execution_count": 66,
   "metadata": {},
   "outputs": [],
   "source": [
    "# history = []\n",
    "# states = np.zeros((4, 4), dtype=np.float64)\n",
    "\n",
    "# for i in range(len(strategies_chain_coords)):\n",
    "#     state_coords = strategies_chain_coords[i]\n",
    "#     policies = strategies_chain[i]\n",
    "\n",
    "#     for next_i in range(-1, -(len(policies) + 1), -1):\n",
    "#         curr_i = next_i - 1\n",
    "\n",
    "#         next_state_env = world_map[state_coords[next_i]][0]\n",
    "#         reward = rs.get(next_state_env)\n",
    "#         probab = ps.get(policies[next_i])\n",
    "#         states[state_coords[curr_i]] = probab*(reward + gamma*states[state_coords[next_i]])\n",
    "    \n",
    "#     history.append(copy.deepcopy(states))\n",
    "    \n"
   ]
  },
  {
   "cell_type": "code",
   "execution_count": null,
   "metadata": {},
   "outputs": [],
   "source": [
    "# fig, axes = plt.subplots(2, 2, figsize=(7, 7))\n",
    "\n",
    "\n",
    "# for i, (ax, state_matrix) in enumerate(zip(axes.flat, history)):\n",
    "#     seaborn.heatmap(state_matrix, ax=ax, annot=True, cbar=False)\n",
    "#     ax.axis(\"off\")\n",
    "#     ax.set_title(f\"States: {i}\")\n",
    "\n",
    "# plt.tight_layout()\n",
    "# plt.show()\n"
   ]
  },
  {
   "cell_type": "code",
   "execution_count": 5,
   "metadata": {},
   "outputs": [],
   "source": [
    "# states = np.zeros((4, 4), dtype=np.float64)\n",
    "\n",
    "# strategy_chain = [[\"down\"]*2, [\"right\"], [\"down\"], [\"right\"]*2]\n",
    "# strategy_chain = list(reduce(lambda a, b: a + b, strategy_chain))\n",
    "# s0 = (0, 0)\n",
    "\n",
    "# # form coords of movement\n",
    "# coords_chain = [s0]\n",
    "# for policy in strategy_chain:\n",
    "#     coords_chain.append(apply_policy(coords_chain[-1], policy))\n",
    "\n",
    "# for next_i in range(-1, -(len(strategy_chain) + 1), -1):\n",
    "#     curr_i = next_i - 1\n",
    "\n",
    "#     next_state_env = world_map[coords_chain[next_i]][0]\n",
    "#     reward = rs.get(next_state_env)\n",
    "#     probab = ps.get(strategy_chain[next_i])\n",
    "#     states[coords_chain[curr_i]] = probab*(reward + gamma*states[coords_chain[next_i]])\n",
    "\n"
   ]
  },
  {
   "cell_type": "code",
   "execution_count": null,
   "metadata": {},
   "outputs": [],
   "source": [
    "# seaborn.heatmap(states, annot=True, cbar=False)\n",
    "# plt.axis(\"off\")\n",
    "\n",
    "# plt.show()\n"
   ]
  },
  {
   "cell_type": "code",
   "execution_count": null,
   "metadata": {},
   "outputs": [],
   "source": [
    "## (2.a) Policy iteration method for one strategy "
   ]
  },
  {
   "attachments": {},
   "cell_type": "markdown",
   "metadata": {},
   "source": [
    "## (2.b) System of Bellman's equations"
   ]
  },
  {
   "attachments": {},
   "cell_type": "markdown",
   "metadata": {},
   "source": [
    "Generationg probability matrix"
   ]
  },
  {
   "cell_type": "code",
   "execution_count": 9,
   "metadata": {},
   "outputs": [],
   "source": [
    "# Alternative P search\n",
    "n = 4\n",
    "n_states = n * n\n",
    "P = np.zeros((n_states, n_states))\n",
    "R = np.zeros(n_states)\n",
    "\n",
    "for i in range(n):\n",
    "    for j in range(n):\n",
    "        state_idx = i*4 + j\n",
    "        if (i, j) in terminal_states:\n",
    "            P[state_idx, state_idx] = 1 # self-absorbing state\n",
    "            R[state_idx] = rs[world_map[i, j]]\n",
    "        else:\n",
    "            the_same_state_n = 0\n",
    "            for action in actions:\n",
    "                next_state = get_next_state((i, j), action)\n",
    "                if (i, j) == next_state:\n",
    "                    the_same_state_n += 1\n",
    "                next_state_idx = next_state[0]*4 + next_state[1]\n",
    "                P[state_idx, next_state_idx] += p \n",
    "                R[state_idx] = rs[world_map[i, j]]\n"
   ]
  },
  {
   "cell_type": "code",
   "execution_count": 7,
   "metadata": {},
   "outputs": [],
   "source": [
    "from numpy.linalg import solve\n",
    "\n"
   ]
  },
  {
   "cell_type": "code",
   "execution_count": 11,
   "metadata": {},
   "outputs": [],
   "source": [
    "I = np.eye(n_states)\n",
    "v = solve(I - gamma * P, R)"
   ]
  },
  {
   "cell_type": "code",
   "execution_count": 21,
   "metadata": {},
   "outputs": [
    {
     "data": {
      "text/plain": [
       "<Axes: >"
      ]
     },
     "execution_count": 21,
     "metadata": {},
     "output_type": "execute_result"
    },
    {
     "data": {
      "image/png": "[encoded data removed]",
      "text/plain": [
       "<Figure size 640x480 with 2 Axes>"
      ]
     },
     "metadata": {},
     "output_type": "display_data"
    }
   ],
   "source": [
    "seaborn.heatmap(v.reshape((n, n)), annot=True)"
   ]
  },
  {
   "attachments": {},
   "cell_type": "markdown",
   "metadata": {},
   "source": [
    "## (4) Equiprobable function to get random action"
   ]
  },
  {
   "cell_type": "code",
   "execution_count": 38,
   "metadata": {},
   "outputs": [],
   "source": [
    "def equiprobable():\n",
    "    return np.random.randint(0, len(actions))"
   ]
  },
  {
   "attachments": {},
   "cell_type": "markdown",
   "metadata": {},
   "source": [
    "### FrozenLake sandbox"
   ]
  },
  {
   "cell_type": "code",
   "execution_count": 27,
   "metadata": {},
   "outputs": [],
   "source": [
    "import gymnasium as gym\n",
    "from time import time"
   ]
  },
  {
   "cell_type": "code",
   "execution_count": 28,
   "metadata": {},
   "outputs": [],
   "source": [
    "env = gym.make(\"FrozenLake-v1\", \n",
    "                #    map_name=\"8x8\", \n",
    "               is_slippery=False, \n",
    "               desc=[\"SFFF\", \n",
    "                     \"FHFH\", \n",
    "                     \"FFFH\", \n",
    "                     \"HFFG\"],\n",
    "                render_mode=\"human\"\n",
    "                )\n",
    "\n",
    "env.reset()\n",
    "env.render()"
   ]
  },
  {
   "attachments": {},
   "cell_type": "markdown",
   "metadata": {},
   "source": [
    "## (5) Get_episode()"
   ]
  },
  {
   "cell_type": "code",
   "execution_count": null,
   "metadata": {},
   "outputs": [],
   "source": [
    "\"\"\"\n",
    "Створити  функцію  get_episode,  яка  приймає  у  якості  аргументу \n",
    "екземпляр середовища, а результатом функції є епізод, тобто список \n",
    "кортежів,  кожен  з  яких  зберігає  всі  характеристики  кожного  кроку \n",
    "агента  (тобто  попередній  стан,  дію,  винагороду,  поточний  стан, \n",
    "значення параметрів terminated та truncated).  \n",
    "Вибір  агентом  дії  у  кожному  стані  на  даному  етапі  реалізуйте  на \n",
    "основі  функції  equiprobable,  або,  іншими  словами,  на  основі \n",
    "рівноймовірної (випадкової) стратегії 𝜋1.\"\"\""
   ]
  },
  {
   "cell_type": "code",
   "execution_count": 44,
   "metadata": {},
   "outputs": [],
   "source": [
    "def get_episode(env):\n",
    "    curr_state, _ = env.reset()\n",
    "\n",
    "    terminated, truncated = False, False\n",
    "    episode = []\n",
    "    while not (terminated or truncated):\n",
    "        action = equiprobable()\n",
    "        next_state, reward, terminated, truncated, _ = env.step(action)\n",
    "        episode.append((curr_state, action, reward, next_state, terminated, truncated))\n",
    "        curr_state = next_state\n",
    "    \n",
    "    return episode\n"
   ]
  },
  {
   "cell_type": "code",
   "execution_count": 45,
   "metadata": {},
   "outputs": [
    {
     "data": {
      "text/plain": [
       "[(0, 0, 0.0, 0, False, False),\n",
       " (0, 1, 0.0, 4, False, False),\n",
       " (4, 2, 0.0, 5, True, False)]"
      ]
     },
     "execution_count": 45,
     "metadata": {},
     "output_type": "execute_result"
    }
   ],
   "source": [
    "episode = get_episode(env)\n",
    "episode\n"
   ]
  },
  {
   "attachments": {},
   "cell_type": "markdown",
   "metadata": {},
   "source": [
    "## (6) Graphs of episode"
   ]
  },
  {
   "cell_type": "code",
   "execution_count": null,
   "metadata": {},
   "outputs": [],
   "source": [
    "\"\"\"Виконати 100 епізодів за допомогою функції get_episode. Виведіть \n",
    "на екран два графіки: винагорода та тривалість епізоду.\"\"\""
   ]
  },
  {
   "cell_type": "code",
   "execution_count": 50,
   "metadata": {},
   "outputs": [],
   "source": [
    "import time\n"
   ]
  },
  {
   "cell_type": "code",
   "execution_count": 51,
   "metadata": {},
   "outputs": [],
   "source": [
    "exec_time_arr = []\n",
    "rewards = []\n",
    "for _ in range(100):\n",
    "    s_time = time.perf_counter()\n",
    "    episode = get_episode(env)\n",
    "    total_time = time.perf_counter() - s_time\n",
    "    \n",
    "    rewards.append(sum([step[2] for step in episode]))\n",
    "    exec_time_arr.append(total_time)\n"
   ]
  },
  {
   "cell_type": "code",
   "execution_count": 52,
   "metadata": {},
   "outputs": [],
   "source": [
    "import matplotlib.pyplot as plt"
   ]
  },
  {
   "cell_type": "code",
   "execution_count": 57,
   "metadata": {},
   "outputs": [
    {
     "data": {
      "text/plain": [
       "[]"
      ]
     },
     "execution_count": 57,
     "metadata": {},
     "output_type": "execute_result"
    },
    {
     "data": {
      "image/png": "[encoded data removed]",
      "text/plain": [
       "<Figure size 1000x500 with 2 Axes>"
      ]
     },
     "metadata": {},
     "output_type": "display_data"
    }
   ],
   "source": [
    "fig, (ax1, ax2) = plt.subplots(1, 2, figsize=(10, 5))\n",
    "ax1.plot(range(1, 101), exec_time_arr)\n",
    "ax1.set_title(\"Час виконання get_episode()\") # враховуючи час очікування потоку\n",
    "ax1.set_xlabel(\"Епізоди\")\n",
    "ax1.set_ylabel(\"Час (секунди)\")\n",
    "\n",
    "ax2.plot(range(1, 101), rewards)\n",
    "ax2.set_title(\"Винагороди get_episode()\")\n",
    "ax2.set_xlabel(\"Епізоди\")\n",
    "ax2.set_ylabel(\"Винагороди\")\n",
    "\n",
    "plt.tight_layout()\n",
    "plt.plot()\n"
   ]
  },
  {
   "attachments": {},
   "cell_type": "markdown",
   "metadata": {},
   "source": [
    "## (7) Iteration policy method with optimal strategy search"
   ]
  },
  {
   "cell_type": "code",
   "execution_count": null,
   "metadata": {},
   "outputs": [],
   "source": [
    "\"\"\" Реалізувати  метод  Ітерації  ціни  (Value  Iteration)  для  знаходження \n",
    "оптимальної стратегії за заданою початковою\"\"\""
   ]
  },
  {
   "cell_type": "code",
   "execution_count": 3,
   "metadata": {},
   "outputs": [],
   "source": [
    "MAP = ['SFFF', \n",
    "       'FHFH', \n",
    "       'FFFH', \n",
    "       'HFFG']\n",
    "\n",
    "desc = np.array(MAP, dtype='c')\n",
    "nrow, ncol = desc.shape\n",
    "nA = 4 # actions number\n",
    "nS = nrow * ncol # states number\n",
    "is_slippery = False\n",
    "\n",
    "R_positive = 1\n",
    "r = 0"
   ]
  },
  {
   "cell_type": "code",
   "execution_count": 17,
   "metadata": {},
   "outputs": [],
   "source": [
    "def to_s(row, col):\n",
    "    return row*4 + col\n",
    "\n",
    "\n",
    "def get_next_state(r, c, action):\n",
    "    \"\"\"actions: [0, 1, 2, 3] = [left, down, right, up]\"\"\"\n",
    "    if action == 3:\n",
    "        r = max(0, r - 1)\n",
    "    elif action == 1:\n",
    "        r = min(nrow - 1, r + 1)\n",
    "    elif action == 0:\n",
    "        c = max(0, c - 1)\n",
    "    elif action == 2:\n",
    "        c = min(ncol - 1, c + 1)\n",
    "    return r, c\n",
    "\n",
    "\n",
    "def get_reward(letter, new_letter):\n",
    "    trans_rewards = {b'FF': r,\n",
    "                     b'FH': r,\n",
    "                     b'FG': R_positive,\n",
    "                     b'FH': r,\n",
    "                     b'SS': r,\n",
    "                     b'SF': r,\n",
    "                     b'SH': r,\n",
    "                     b'SG': R_positive,\n",
    "                     b'SH': r,\n",
    "                     b'FS': r\n",
    "    }\n",
    "    return trans_rewards[letter + new_letter]"
   ]
  },
  {
   "cell_type": "code",
   "execution_count": 5,
   "metadata": {},
   "outputs": [],
   "source": [
    "def get_dynamics(ncol, nrow, nS, nA):\n",
    "    P = {s: {a: [] for a in range(nA)} for s in range(nS)}\n",
    "\n",
    "    for r in range(nrow):\n",
    "        for c in range(ncol):\n",
    "            s = to_s(r, c)\n",
    "            for a in range(nA):\n",
    "                dynamics = P[s][a]\n",
    "                letter = desc[r, c]\n",
    "                if letter in b'HG': # terminal states\n",
    "                    # (p, s', reward, is_terminal)\n",
    "                    dynamics.append((0, s, 0, True))\n",
    "                else:\n",
    "                    if is_slippery:\n",
    "                        # define the perpendicular trajectory actions, with the action\n",
    "                        for b in [(a - 1) % 4, a, (a + 1) % 4]:\n",
    "                            new_r, new_c = get_next_state(r, c, b)\n",
    "                            new_s = to_s(new_r, new_c)\n",
    "                            new_letter = desc[new_r, new_c]\n",
    "                            terminated = new_letter in b'HG'\n",
    "                            reward = get_reward(letter, new_letter)\n",
    "                            dynamics.append((1.0/3.0, new_s, reward, terminated)) # there are 2 perpendicular move trajectories, so with the action they add up to 3 probable actions\n",
    "                    else:\n",
    "                        new_r, new_c = get_next_state(r, c, a)\n",
    "                        new_s = to_s(new_r, new_c) \n",
    "                        new_letter = desc[new_r, new_c]\n",
    "                        terminated = new_letter in b'HG'\n",
    "                        reward = get_reward(letter, new_letter)\n",
    "                        dynamics.append((1.0/3.0, new_s, reward, terminated))\n",
    "    return P\n",
    "\n"
   ]
  },
  {
   "cell_type": "code",
   "execution_count": 6,
   "metadata": {},
   "outputs": [],
   "source": [
    "def policy_iteration(policy, P, gamma=0.75, theta=1e-5):\n",
    "    delta = np.float32(\"inf\")\n",
    "    nS = len(P.keys())\n",
    "    V = np.zeros(nS)\n",
    "\n",
    "    while theta < delta:\n",
    "        delta = 0\n",
    "        \n",
    "        for s in range(nS):\n",
    "            Vs = 0\n",
    "            for action, action_p in enumerate(policy[s]):\n",
    "                for (p, new_s, reward, terminated) in P[s][action]:\n",
    "                    Vs += action_p * p * (reward + gamma * V[new_s])\n",
    "            delta = max(delta, np.abs(V[s] - Vs))\n",
    "            V[s] = Vs\n",
    "    return V"
   ]
  },
  {
   "cell_type": "code",
   "execution_count": 7,
   "metadata": {},
   "outputs": [],
   "source": [
    "def q_from_v(P, V, s, gamma=0.75):\n",
    "    nA = 4\n",
    "    q = np.zeros(nA)\n",
    "    for a in range(nA):\n",
    "        for (p, new_s, reward, terminated) in P[s][a]:\n",
    "            q[a] += p * (reward + gamma * V[new_s])\n",
    "    return q"
   ]
  },
  {
   "cell_type": "code",
   "execution_count": 8,
   "metadata": {},
   "outputs": [],
   "source": [
    "def Q_from_v(P, V, gamma=0.75):\n",
    "    nS = V.shape[0] \n",
    "    Q = np.array([q_from_v(P, V, s, gamma=gamma) for s in range(nS)])\n",
    "    return Q\n"
   ]
  },
  {
   "cell_type": "code",
   "execution_count": 10,
   "metadata": {},
   "outputs": [],
   "source": [
    "def improve_policy(P, V, policy, gamma=0.75):\n",
    "    nS = V.shape[0]\n",
    "    nA = 4\n",
    "    # policy = np.ones([nS, nA]) / nA\n",
    "\n",
    "    for s in range(nS):\n",
    "        q = q_from_v(P, V, s, gamma=gamma)\n",
    "        best_action = np.argwhere(q == np.max(q)).flatten()\n",
    "        policy[s] = np.sum([np.eye(nA)[i] for i in best_action], axis=0) / len(best_action)\n",
    "    return policy"
   ]
  },
  {
   "cell_type": "code",
   "execution_count": 13,
   "metadata": {},
   "outputs": [],
   "source": [
    "def optimize_policy(P, policy, gamma=0.75, theta=1e-4):\n",
    "    V_curr = policy_iteration(policy=policy, P=P, gamma=gamma, theta=theta)\n",
    "    policy = improve_policy(P=P, V=V_curr, policy=policy, gamma=gamma)\n",
    "    V_next = policy_iteration(policy=policy, P=P, gamma=gamma, theta=theta)\n",
    "\n",
    "    # i = 0\n",
    "    while np.max(np.abs(V_next - V_curr)) > theta:\n",
    "        V_curr = V_next\n",
    "        policy = improve_policy(P=P, V=V_curr, policy=policy, gamma=gamma)\n",
    "        V_next = policy_iteration(policy=policy, P=P, gamma=gamma, theta=theta)\n",
    "        # i += 1\n",
    "    return V_next, policy"
   ]
  },
  {
   "cell_type": "code",
   "execution_count": 18,
   "metadata": {},
   "outputs": [],
   "source": [
    "P = get_dynamics(ncol=ncol, nrow=nrow, nS=nS, nA=nA)\n",
    "policy = np.ones([nS, nA]) / nA\n",
    "V, policy = optimize_policy(P=P, policy=policy)"
   ]
  },
  {
   "cell_type": "code",
   "execution_count": 20,
   "metadata": {},
   "outputs": [
    {
     "data": {
      "text/plain": [
       "(np.float64(0.0), np.float64(4.0), np.float64(4.0), np.float64(0.0))"
      ]
     },
     "execution_count": 20,
     "metadata": {},
     "output_type": "execute_result"
    },
    {
     "data": {
      "image/png": "[encoded data removed]",
      "text/plain": [
       "<Figure size 640x480 with 2 Axes>"
      ]
     },
     "metadata": {},
     "output_type": "display_data"
    }
   ],
   "source": [
    "seaborn.heatmap(V.reshape(nrow, ncol), annot=True)\n",
    "plt.axis(\"off\")\n"
   ]
  },
  {
   "cell_type": "code",
   "execution_count": 22,
   "metadata": {},
   "outputs": [],
   "source": [
    "def bellman_SLE(policy, P, gamma=0.75):\n",
    "    nS = len(P.keys())\n",
    "    A = np.eye(nS)\n",
    "    b = np.zeros(nS)\n",
    "    \n",
    "    for s in range(nS):\n",
    "        for action, action_p in enumerate(policy[s]):\n",
    "            for (p, new_s, reward, terminated) in P[s][action]:\n",
    "                A[s][new_s] -= action_p * p * gamma\n",
    "                b[s] += action_p * p * reward\n",
    "\n",
    "    V = np.linalg.solve(A, b)\n",
    "    return V, A, b"
   ]
  },
  {
   "cell_type": "code",
   "execution_count": 24,
   "metadata": {},
   "outputs": [
    {
     "data": {
      "text/plain": [
       "(np.float64(0.0), np.float64(4.0), np.float64(4.0), np.float64(0.0))"
      ]
     },
     "execution_count": 24,
     "metadata": {},
     "output_type": "execute_result"
    },
    {
     "data": {
      "image/png": "[encoded data removed]",
      "text/plain": [
       "<Figure size 640x480 with 2 Axes>"
      ]
     },
     "metadata": {},
     "output_type": "display_data"
    }
   ],
   "source": [
    "V_bellman, A, b = bellman_SLE(np.ones([nS, nA]) / nA, P)\n",
    "seaborn.heatmap(V_bellman.reshape(nrow, ncol), annot=True)\n",
    "plt.axis(\"off\")\n"
   ]
  },
  {
   "cell_type": "code",
   "execution_count": 62,
   "metadata": {},
   "outputs": [],
   "source": [
    "env_space = [\"SFFF\", \n",
    "             \"FHFH\", \n",
    "             \"FFFH\", \n",
    "             \"HFFG\"]\n"
   ]
  },
  {
   "cell_type": "code",
   "execution_count": 64,
   "metadata": {},
   "outputs": [],
   "source": [
    "env_space = np.array([[s for s in line] for line in env_space])\n",
    "env_space\n"
   ]
  },
  {
   "cell_type": "code",
   "execution_count": 69,
   "metadata": {},
   "outputs": [],
   "source": [
    "# Construct all possible combinations\n",
    "states_ids = np.arange(16).reshape((4, 4))\n",
    "states_ids"
   ]
  },
  {
   "cell_type": "code",
   "execution_count": 93,
   "metadata": {},
   "outputs": [],
   "source": [
    "s0 = (1, 0)\n",
    "s_t = (3, 3)"
   ]
  },
  {
   "cell_type": "code",
   "execution_count": 106,
   "metadata": {},
   "outputs": [],
   "source": [
    "chain = set(s0)"
   ]
  },
  {
   "cell_type": "code",
   "execution_count": null,
   "metadata": {},
   "outputs": [],
   "source": [
    "if chain[0] != s_t:\n",
    "    if s0[0] > 0:\n",
    "        chain.append(s0[0] - 1, s0[1])\n",
    "    "
   ]
  }
 ],
 "metadata": {
  "kernelspec": {
   "display_name": "env",
   "language": "python",
   "name": "python3"
  },
  "language_info": {
   "codemirror_mode": {
    "name": "ipython",
    "version": 3
   },
   "file_extension": ".py",
   "mimetype": "text/x-python",
   "name": "python",
   "nbconvert_exporter": "python",
   "pygments_lexer": "ipython3",
   "version": "3.12.4"
  },
  "orig_nbformat": 4
 },
 "nbformat": 4,
 "nbformat_minor": 2
}
