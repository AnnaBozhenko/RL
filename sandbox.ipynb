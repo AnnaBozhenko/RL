{
 "cells": [
  {
   "cell_type": "code",
   "execution_count": null,
   "metadata": {},
   "outputs": [],
   "source": [
    "# TODO:\n",
    "# implement iterative policy evaluation of states\n",
    "# Input: \n",
    "#   [<action>, .., ]\n",
    "#   {<action>: <probability>}\n",
    "#   gamma\n",
    "#   {r(s'): <reward>}\n",
    "#   map of world: ['SFFF', \n",
    "#                  'FHFH', \n",
    "#                  'FFFH', \n",
    "#                  'HFFG']\n",
    "#   initial state: [row, col]\n",
    "\n",
    "# Requirements:\n",
    "#  + policy should be valid, i.e after fell into hole, no further actions are possibble \n",
    "#  + on return i get a map of states, e.g: \n",
    "# [[0.3, -0.04, 0.23, 0],\n",
    "#  [0.3, -0.04, 0.23, 0]\n",
    "#  [0.3, -0.04, 0.23, 0]\n",
    "#  [0.3, -0.04, 0.23, 0]\n",
    "#  [0.3, -0.04, 0.23, 0]] \n",
    "# \n",
    "# I should visualize the map (heat map)"
   ]
  },
  {
   "cell_type": "code",
   "execution_count": 1,
   "metadata": {},
   "outputs": [],
   "source": [
    "import numpy as np\n",
    "\n",
    "import seaborn\n",
    "\n",
    "from functools import reduce\n",
    "\n",
    "import copy\n",
    "import matplotlib.pyplot as plt\n"
   ]
  },
  {
   "cell_type": "code",
   "execution_count": 5,
   "metadata": {},
   "outputs": [],
   "source": [
    "actions_map = {\"left\": 0, \n",
    "               \"down\": 1, \n",
    "               \"right\": 2, \n",
    "               \"up\": 3}\n",
    "\n"
   ]
  },
  {
   "cell_type": "code",
   "execution_count": null,
   "metadata": {},
   "outputs": [],
   "source": [
    "# environment:\n",
    "# ['SFFF', \n",
    "#  'FHFH', \n",
    "#  'FFFH', \n",
    "#  'HFFG']"
   ]
  },
  {
   "cell_type": "code",
   "execution_count": 4,
   "metadata": {},
   "outputs": [],
   "source": [
    "# initial state\n",
    "s0 = (0, 0)\n",
    "# probabilities to move by action\n",
    "ps = {\n",
    "      \"left\": 0.25, \n",
    "      \"down\": 0.25, \n",
    "      \"right\": 0.25, \n",
    "      \"up\": 0.25\n",
    "    } \n",
    "# rewards to get when getting to a state\n",
    "rs = {\n",
    "      \"H\": 0,\n",
    "      \"F\": 0,\n",
    "      \"S\": 0,\n",
    "      \"G\": 1\n",
    "    }\n",
    "\n",
    "\n",
    "world_map = ['SFFF', \n",
    "            'FHFH', \n",
    "            'FFFH', \n",
    "            'HFFG']\n",
    "\n",
    "world_map = np.array([[env_name for env_name in line] for line in world_map])\n",
    "\n",
    "gamma = 0.75\n"
   ]
  },
  {
   "cell_type": "code",
   "execution_count": 3,
   "metadata": {},
   "outputs": [
    {
     "data": {
      "text/plain": [
       "array([['S', 'F', 'F', 'F'],\n",
       "       ['F', 'H', 'F', 'H'],\n",
       "       ['F', 'F', 'F', 'H'],\n",
       "       ['H', 'F', 'F', 'G']], dtype='<U1')"
      ]
     },
     "execution_count": 3,
     "metadata": {},
     "output_type": "execute_result"
    }
   ],
   "source": [
    "world_map"
   ]
  },
  {
   "attachments": {},
   "cell_type": "markdown",
   "metadata": {},
   "source": [
    "# (S) Experiment on iterative policy"
   ]
  },
  {
   "cell_type": "code",
   "execution_count": 7,
   "metadata": {},
   "outputs": [
    {
     "data": {
      "text/plain": [
       "array([['S', 'F', 'F', 'F'],\n",
       "       ['F', 'H', 'F', 'H'],\n",
       "       ['F', 'F', 'F', 'H'],\n",
       "       ['H', 'F', 'F', 'G']], dtype='<U1')"
      ]
     },
     "execution_count": 7,
     "metadata": {},
     "output_type": "execute_result"
    }
   ],
   "source": [
    "world_map"
   ]
  },
  {
   "attachments": {},
   "cell_type": "markdown",
   "metadata": {},
   "source": [
    "# (E) Experiment on iterative policy"
   ]
  },
  {
   "cell_type": "code",
   "execution_count": 3,
   "metadata": {},
   "outputs": [],
   "source": [
    "class OutOfWorldError(Exception):\n",
    "    ...\n",
    "\n",
    "\n",
    "def apply_policy(state_coords, policy):\n",
    "    \"\"\"returns next state\"\"\"\n",
    "    move_col = {\n",
    "        \"left\": -1,\n",
    "        \"right\": 1}\n",
    "    \n",
    "    move_row = {\n",
    "        \"up\": -1,\n",
    "        \"down\": 1\n",
    "    }\n",
    "    \n",
    "    steps = move_col.get(policy)\n",
    "    new_coords = 0, 0\n",
    "    if steps:\n",
    "        new_coords = state_coords[0], state_coords[1] + steps\n",
    "    else:\n",
    "        steps = move_row.get(policy)\n",
    "        new_coords = state_coords[0] + steps, state_coords[1]\n",
    "    if new_coords[0] < 0 or new_coords[1] < 0: # both coords may be negative\n",
    "        raise OutOfWorldError\n",
    "    \n",
    "    return new_coords\n"
   ]
  },
  {
   "cell_type": "code",
   "execution_count": 11,
   "metadata": {},
   "outputs": [],
   "source": [
    "# strategies_chain = [\n",
    "#     [[\"down\"]*2, [\"right\"], [\"down\"], [\"right\"]*2],\n",
    "#     [[\"down\"]*2, [\"right\"]*2, [\"down\"], [\"right\"]],\n",
    "#     [[\"right\"]*3, [\"left\"], [\"down\"]*3, [\"right\"]],\n",
    "#     [[\"right\"]*2, [\"down\"]*3, [\"right\"]]\n",
    "# ]\n",
    "# strategies_chain[0]\n",
    "# strategies_chain = list(map(lambda policy_chain: reduce(lambda x, y: x + y, \n",
    "#                                      policy_chain), \n",
    "#                                strategies_chain))\n"
   ]
  },
  {
   "cell_type": "code",
   "execution_count": null,
   "metadata": {},
   "outputs": [],
   "source": [
    "# Var 2 (declarative)\n",
    "# strategies_chain_coords = []\n",
    "# for chain in strategies_chain:\n",
    "#     coords_chain = [s0]\n",
    "#     for policy in chain:\n",
    "#         coords_chain.append(apply_policy(coords_chain[-1], policy))\n",
    "#     strategies_chain_coords.append(coords_chain)\n"
   ]
  },
  {
   "cell_type": "code",
   "execution_count": 6,
   "metadata": {},
   "outputs": [],
   "source": [
    "# Var 1 (functional)\n",
    "# strategies_chain_coords = \\\n",
    "# [list(\n",
    "#     reduce(lambda accum_states, policy: accum_states + [apply_policy(accum_states[-1], policy)],\n",
    "#            strategy_chain,\n",
    "#            [s0])) \n",
    "#     for strategy_chain in strategies_chain]\n"
   ]
  },
  {
   "cell_type": "code",
   "execution_count": 66,
   "metadata": {},
   "outputs": [],
   "source": [
    "# history = []\n",
    "# states = np.zeros((4, 4), dtype=np.float64)\n",
    "\n",
    "# for i in range(len(strategies_chain_coords)):\n",
    "#     state_coords = strategies_chain_coords[i]\n",
    "#     policies = strategies_chain[i]\n",
    "\n",
    "#     for next_i in range(-1, -(len(policies) + 1), -1):\n",
    "#         curr_i = next_i - 1\n",
    "\n",
    "#         next_state_env = world_map[state_coords[next_i]][0]\n",
    "#         reward = rs.get(next_state_env)\n",
    "#         probab = ps.get(policies[next_i])\n",
    "#         states[state_coords[curr_i]] = probab*(reward + gamma*states[state_coords[next_i]])\n",
    "    \n",
    "#     history.append(copy.deepcopy(states))\n",
    "    \n"
   ]
  },
  {
   "cell_type": "code",
   "execution_count": null,
   "metadata": {},
   "outputs": [],
   "source": [
    "# fig, axes = plt.subplots(2, 2, figsize=(7, 7))\n",
    "\n",
    "\n",
    "# for i, (ax, state_matrix) in enumerate(zip(axes.flat, history)):\n",
    "#     seaborn.heatmap(state_matrix, ax=ax, annot=True, cbar=False)\n",
    "#     ax.axis(\"off\")\n",
    "#     ax.set_title(f\"States: {i}\")\n",
    "\n",
    "# plt.tight_layout()\n",
    "# plt.show()\n"
   ]
  },
  {
   "attachments": {},
   "cell_type": "markdown",
   "metadata": {},
   "source": [
    "## (2.a) Policy iteration method for one strategy "
   ]
  },
  {
   "cell_type": "code",
   "execution_count": 28,
   "metadata": {},
   "outputs": [],
   "source": [
    "states = np.zeros((4, 4), dtype=np.float64)\n",
    "\n",
    "strategy_chain = [[\"down\"]*2, [\"right\"], [\"down\"], [\"right\"]*2]\n",
    "strategy_chain = list(reduce(lambda a, b: a + b, strategy_chain))\n",
    "s0 = (0, 0)\n",
    "\n",
    "# form coords of movement\n",
    "coords_chain = [s0]\n",
    "for policy in strategy_chain:\n",
    "    coords_chain.append(apply_policy(coords_chain[-1], policy))\n",
    "\n",
    "for next_i in range(-1, -(len(strategy_chain) + 1), -1):\n",
    "    curr_i = next_i - 1\n",
    "\n",
    "    next_state_env = world_map[coords_chain[next_i]][0]\n",
    "    reward = rs.get(next_state_env)\n",
    "    probab = ps.get(strategy_chain[next_i])\n",
    "    states[coords_chain[curr_i]] = probab*(reward + gamma*states[coords_chain[next_i]])\n",
    "\n"
   ]
  },
  {
   "cell_type": "code",
   "execution_count": 29,
   "metadata": {},
   "outputs": [
    {
     "data": {
      "image/png": "[encoded data removed]",
      "text/plain": [
       "<Figure size 640x480 with 1 Axes>"
      ]
     },
     "metadata": {},
     "output_type": "display_data"
    }
   ],
   "source": [
    "seaborn.heatmap(states, annot=True, cbar=False)\n",
    "plt.axis(\"off\")\n",
    "\n",
    "plt.show()"
   ]
  },
  {
   "cell_type": "code",
   "execution_count": null,
   "metadata": {},
   "outputs": [],
   "source": [
    "## (2.a) Policy iteration method for one strategy "
   ]
  },
  {
   "attachments": {},
   "cell_type": "markdown",
   "metadata": {},
   "source": [
    "# Policy iteration method"
   ]
  },
  {
   "cell_type": "code",
   "execution_count": 70,
   "metadata": {},
   "outputs": [],
   "source": [
    "def policy_iteration(states, policies):\n",
    "    state_coords = [s0]\n",
    "\n",
    "    for policy in policies:\n",
    "        try:\n",
    "            state_coords.append(apply_policy(state_coords[-1], policy))\n",
    "        except OutOfWorldError:\n",
    "            pass\n",
    "\n",
    "    if len(state_coords) < len(policies):\n",
    "        print(\"Invalid action\")\n",
    "        return\n",
    "\n",
    "    for next_i in range(-1, -(len(policies) + 1), -1):\n",
    "        curr_i = next_i - 1\n",
    "\n",
    "        next_state_env = world_map[state_coords[next_i]][0]\n",
    "        reward = rs.get(next_state_env)\n",
    "        probab = ps.get(policies[next_i])\n",
    "        states[state_coords[curr_i]] = probab*(reward + gamma*states[state_coords[next_i]])\n",
    "    return states\n"
   ]
  },
  {
   "cell_type": "code",
   "execution_count": 73,
   "metadata": {},
   "outputs": [
    {
     "data": {
      "text/plain": [
       "<Axes: >"
      ]
     },
     "execution_count": 73,
     "metadata": {},
     "output_type": "execute_result"
    },
    {
     "data": {
      "image/png": "[encoded data removed]",
      "text/plain": [
       "<Figure size 640x480 with 2 Axes>"
      ]
     },
     "metadata": {},
     "output_type": "display_data"
    }
   ],
   "source": [
    "policies = [\"down\", \"down\", \"right\", \"right\", \"down\", \"right\"]\n",
    "states_0 = policy_iteration(states=states, policies=policies)\n",
    "seaborn.heatmap(states_0, annot=True)\n"
   ]
  },
  {
   "cell_type": "code",
   "execution_count": 30,
   "metadata": {},
   "outputs": [
    {
     "data": {
      "text/plain": [
       "array([[5.79357147e-05, 0.00000000e+00, 0.00000000e+00, 0.00000000e+00],\n",
       "       [3.08990479e-04, 0.00000000e+00, 0.00000000e+00, 0.00000000e+00],\n",
       "       [1.64794922e-03, 8.78906250e-03, 0.00000000e+00, 0.00000000e+00],\n",
       "       [0.00000000e+00, 4.68750000e-02, 2.50000000e-01, 0.00000000e+00]])"
      ]
     },
     "execution_count": 30,
     "metadata": {},
     "output_type": "execute_result"
    }
   ],
   "source": [
    "states"
   ]
  },
  {
   "attachments": {},
   "cell_type": "markdown",
   "metadata": {},
   "source": [
    "## (2.b) System of Bellman's equations"
   ]
  },
  {
   "cell_type": "code",
   "execution_count": 12,
   "metadata": {},
   "outputs": [],
   "source": [
    "import gymnasium as gym\n",
    "from time import time\n",
    "\n",
    "env = gym.make(\"FrozenLake-v1\", \n",
    "                #    map_name=\"8x8\", \n",
    "               is_slippery=False, \n",
    "               desc=[\"SFFF\", \n",
    "                     \"FHFH\", \n",
    "                     \"FFFH\", \n",
    "                     \"HFFG\"],\n",
    "                render_mode=\"human\"\n",
    "                )\n",
    "\n",
    "env.reset()\n",
    "env.render()\n"
   ]
  },
  {
   "attachments": {},
   "cell_type": "markdown",
   "metadata": {},
   "source": [
    "Generationg probability matrix"
   ]
  },
  {
   "cell_type": "code",
   "execution_count": 13,
   "metadata": {},
   "outputs": [
    {
     "data": {
      "text/plain": [
       "array(['S', 'F', 'F', 'F', 'F', 'H', 'F', 'H', 'F', 'F', 'F', 'H', 'H',\n",
       "       'F', 'F', 'G'], dtype='<U1')"
      ]
     },
     "execution_count": 13,
     "metadata": {},
     "output_type": "execute_result"
    }
   ],
   "source": [
    "world_map.flatten()"
   ]
  },
  {
   "cell_type": "code",
   "execution_count": 22,
   "metadata": {},
   "outputs": [],
   "source": [
    "def construct_probability_matrix(grid_size, env_matrix, blocking_state = \"H\"):\n",
    "    n = grid_size ** 2  # Total number of states\n",
    "    P = np.zeros((n, n), dtype=np.float32)\n",
    "    env_matrix = env_matrix.flatten()\n",
    "    \n",
    "    for s in range(1, n + 1):\n",
    "        row = s - 1  # Convert 1-based index to 0-based index\n",
    "\n",
    "        # Initialize probabilities\n",
    "        if row < n and env_matrix[row] == \"H\":\n",
    "            prob_up = prob_down = prob_left = prob_right = 0\n",
    "        else:\n",
    "            prob_up = prob_down = prob_left = prob_right = 0.25\n",
    "\n",
    "            if s <= grid_size:  # Top row (no up)\n",
    "                prob_up = 0\n",
    "            elif env_matrix[row - grid_size] == \"H\":\n",
    "                prob_up = 0 \n",
    "            if s > n - grid_size:  # Bottom row (no down)\n",
    "                prob_down = 0\n",
    "            elif env_matrix[row + grid_size] == \"H\":\n",
    "                prob_down = 0\n",
    "            if (s % grid_size) == 1:  # Left column (no left)\n",
    "                prob_left = 0\n",
    "            elif row - 1 >= 0 and env_matrix[row - 1] == \"H\":\n",
    "                prob_left = 0\n",
    "            if (s % grid_size) == 0:  # Right column (no right)\n",
    "                prob_right = 0\n",
    "            elif s < n and env_matrix[s] == \"H\":\n",
    "                prob_right = 0\n",
    "\n",
    "            # make eqiprobable movements to accessible cells  \n",
    "            prob_sum = sum((prob_up, prob_down, prob_left, prob_right)) \n",
    "            prob = 1/3 if prob_sum == 0.75 else \\\n",
    "                     (1/2 if prob_sum == 0.5 else \\\n",
    "                      (1 if prob_sum == 0.25 else \\\n",
    "                       1/4))\n",
    "        \n",
    "            # Assign probabilities to the matrix\n",
    "            if prob_up > 0:\n",
    "                P[row, row - grid_size] = prob  # Move up\n",
    "            if prob_down > 0:\n",
    "                P[row, row + grid_size] = prob  # Move down\n",
    "            if prob_left > 0:\n",
    "                P[row, row - 1] = prob  # Move left\n",
    "            if prob_right > 0:\n",
    "                P[row, row + 1] = prob  # Move right\n",
    "    # terminal state is absorbing one\n",
    "    P[-1, -1] = 1 # environment specific! should be implemented in abstract way\n",
    "    # no possible moves\n",
    "    P[-1, -2] = 0 # move to the right\n",
    "    P[-1, -grid_size] = 0 # move to up\n",
    "    \n",
    "    return P\n",
    "\n"
   ]
  },
  {
   "cell_type": "code",
   "execution_count": null,
   "metadata": {},
   "outputs": [],
   "source": [
    "pm = construct_probability_matrix(4, env_matrix=world_map)\n",
    "pm"
   ]
  },
  {
   "cell_type": "code",
   "execution_count": 24,
   "metadata": {},
   "outputs": [
    {
     "data": {
      "text/plain": [
       "array([1., 1., 1., 1., 1., 0., 1., 0., 1., 1., 1., 0., 0., 1., 1., 1.],\n",
       "      dtype=float32)"
      ]
     },
     "execution_count": 24,
     "metadata": {},
     "output_type": "execute_result"
    }
   ],
   "source": [
    "np.sum(pm, axis=1)\n"
   ]
  },
  {
   "cell_type": "code",
   "execution_count": 14,
   "metadata": {},
   "outputs": [
    {
     "data": {
      "text/plain": [
       "array([0, 0, 0, 0, 0, 0, 0, 0, 0, 0, 0, 0, 0, 0, 0, 1])"
      ]
     },
     "execution_count": 14,
     "metadata": {},
     "output_type": "execute_result"
    }
   ],
   "source": [
    "np.array([[rs.get(state) for state in row] for row in world_map]).flatten()"
   ]
  },
  {
   "attachments": {},
   "cell_type": "markdown",
   "metadata": {},
   "source": [
    "Solving system of Eqs "
   ]
  },
  {
   "cell_type": "code",
   "execution_count": 25,
   "metadata": {},
   "outputs": [],
   "source": [
    "# finally form the system of bellman Eqs function\n",
    "def get_states(grid_size: int, rewards: dict, environment: dict, gamma: float):\n",
    "    P = construct_probability_matrix(grid_size, env_matrix=environment)\n",
    "    \n",
    "    # preparation\n",
    "    R = np.array([[rewards.get(state) for state in row] for row in environment]).flatten()\n",
    "    # make vector-like structure\n",
    "    R = np.vstack(R)\n",
    "\n",
    "    n = grid_size**2\n",
    "    I = np.diag(np.full(n, 1, dtype=np.float32))\n",
    "\n",
    "    # solve system of equations\n",
    "    states = np.linalg.inv((I - gamma * P)) @ R\n",
    "    states = states.reshape((grid_size, grid_size))\n",
    "    return states\n"
   ]
  },
  {
   "cell_type": "code",
   "execution_count": 26,
   "metadata": {},
   "outputs": [],
   "source": [
    "states_1 = get_states(grid_size=4, rewards=rs, environment=world_map, gamma=0.75) "
   ]
  },
  {
   "cell_type": "code",
   "execution_count": 27,
   "metadata": {},
   "outputs": [
    {
     "data": {
      "text/plain": [
       "<Axes: >"
      ]
     },
     "execution_count": 27,
     "metadata": {},
     "output_type": "execute_result"
    },
    {
     "data": {
      "image/png": "[encoded data removed]",
      "text/plain": [
       "<Figure size 640x480 with 2 Axes>"
      ]
     },
     "metadata": {},
     "output_type": "display_data"
    }
   ],
   "source": [
    "seaborn.heatmap(states_1, annot=True)"
   ]
  },
  {
   "cell_type": "code",
   "execution_count": 31,
   "metadata": {},
   "outputs": [
    {
     "data": {
      "text/plain": [
       "array([[0.03934948, 0.04121803, 0.07056525, 0.05292394],\n",
       "       [0.06371392, 0.        , 0.18811905, 0.        ],\n",
       "       [0.1305543 , 0.28443089, 0.43108556, 0.        ],\n",
       "       [0.        , 0.57608372, 1.25179231, 4.        ]])"
      ]
     },
     "execution_count": 31,
     "metadata": {},
     "output_type": "execute_result"
    }
   ],
   "source": [
    "states_1"
   ]
  },
  {
   "attachments": {},
   "cell_type": "markdown",
   "metadata": {},
   "source": [
    "# FrozenLake sandbox"
   ]
  },
  {
   "cell_type": "code",
   "execution_count": 3,
   "metadata": {},
   "outputs": [],
   "source": [
    "import gymnasium as gym\n",
    "from time import time"
   ]
  },
  {
   "cell_type": "code",
   "execution_count": 4,
   "metadata": {},
   "outputs": [],
   "source": [
    "env = gym.make(\"FrozenLake-v1\", \n",
    "                #    map_name=\"8x8\", \n",
    "               is_slippery=False, \n",
    "               desc=[\"SFFF\", \n",
    "                     \"FHFH\", \n",
    "                     \"FFFH\", \n",
    "                     \"HFFG\"],\n",
    "                render_mode=\"human\"\n",
    "                )\n",
    "\n",
    "env.reset()\n",
    "env.render()"
   ]
  },
  {
   "cell_type": "code",
   "execution_count": 7,
   "metadata": {},
   "outputs": [
    {
     "data": {
      "text/plain": [
       "['_saved_kwargs',\n",
       " 'env',\n",
       " '_action_space',\n",
       " '_observation_space',\n",
       " '_metadata',\n",
       " '_cached_spec',\n",
       " '_max_episode_steps',\n",
       " '_elapsed_steps',\n",
       " '__module__',\n",
       " '__doc__',\n",
       " '__init__',\n",
       " 'step',\n",
       " 'reset',\n",
       " 'spec',\n",
       " '__orig_bases__',\n",
       " '__parameters__',\n",
       " 'render',\n",
       " 'close',\n",
       " 'np_random_seed',\n",
       " 'unwrapped',\n",
       " 'wrapper_spec',\n",
       " 'has_wrapper_attr',\n",
       " 'get_wrapper_attr',\n",
       " 'set_wrapper_attr',\n",
       " '__str__',\n",
       " '__repr__',\n",
       " 'class_name',\n",
       " 'action_space',\n",
       " 'observation_space',\n",
       " 'metadata',\n",
       " 'render_mode',\n",
       " 'np_random',\n",
       " '_np_random',\n",
       " '__annotations__',\n",
       " '_np_random_seed',\n",
       " '__enter__',\n",
       " '__exit__',\n",
       " '__dict__',\n",
       " '__weakref__',\n",
       " '__class_getitem__',\n",
       " '__init_subclass__',\n",
       " '__new__',\n",
       " '__hash__',\n",
       " '__getattribute__',\n",
       " '__setattr__',\n",
       " '__delattr__',\n",
       " '__lt__',\n",
       " '__le__',\n",
       " '__eq__',\n",
       " '__ne__',\n",
       " '__gt__',\n",
       " '__ge__',\n",
       " '__reduce_ex__',\n",
       " '__reduce__',\n",
       " '__getstate__',\n",
       " '__subclasshook__',\n",
       " '__format__',\n",
       " '__sizeof__',\n",
       " '__dir__',\n",
       " '__class__']"
      ]
     },
     "execution_count": 7,
     "metadata": {},
     "output_type": "execute_result"
    }
   ],
   "source": [
    "env.__dir__()"
   ]
  },
  {
   "cell_type": "code",
   "execution_count": 62,
   "metadata": {},
   "outputs": [],
   "source": [
    "env_space = [\"SFFF\", \n",
    "             \"FHFH\", \n",
    "             \"FFFH\", \n",
    "             \"HFFG\"]"
   ]
  },
  {
   "cell_type": "code",
   "execution_count": 64,
   "metadata": {},
   "outputs": [],
   "source": [
    "env_space = np.array([[s for s in line] for line in env_space])\n",
    "env_space"
   ]
  },
  {
   "cell_type": "code",
   "execution_count": 69,
   "metadata": {},
   "outputs": [],
   "source": [
    "# Construct all possible combinations\n",
    "states_ids = np.arange(16).reshape((4, 4))\n",
    "states_ids"
   ]
  },
  {
   "cell_type": "code",
   "execution_count": 93,
   "metadata": {},
   "outputs": [],
   "source": [
    "s0 = (1, 0)\n",
    "s_t = (3, 3)"
   ]
  },
  {
   "cell_type": "code",
   "execution_count": 106,
   "metadata": {},
   "outputs": [],
   "source": [
    "chain = set(s0)"
   ]
  },
  {
   "cell_type": "code",
   "execution_count": null,
   "metadata": {},
   "outputs": [],
   "source": [
    "if chain[0] != s_t:\n",
    "    if s0[0] > 0:\n",
    "        chain.append(s0[0] - 1, s0[1])\n",
    "    "
   ]
  }
 ],
 "metadata": {
  "kernelspec": {
   "display_name": "env",
   "language": "python",
   "name": "python3"
  },
  "language_info": {
   "codemirror_mode": {
    "name": "ipython",
    "version": 3
   },
   "file_extension": ".py",
   "mimetype": "text/x-python",
   "name": "python",
   "nbconvert_exporter": "python",
   "pygments_lexer": "ipython3",
   "version": "3.12.4"
  },
  "orig_nbformat": 4
 },
 "nbformat": 4,
 "nbformat_minor": 2
}
